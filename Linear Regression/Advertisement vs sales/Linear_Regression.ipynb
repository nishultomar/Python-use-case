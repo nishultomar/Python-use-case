{
  "nbformat": 4,
  "nbformat_minor": 0,
  "metadata": {
    "colab": {
      "name": "Linear Regression Tutorial For Online Training.ipynb",
      "version": "0.3.2",
      "provenance": [],
      "include_colab_link": true
    },
    "kernelspec": {
      "name": "python3",
      "display_name": "Python 3"
    }
  },
  "cells": [
    {
      "cell_type": "markdown",
      "metadata": {
        "id": "view-in-github",
        "colab_type": "text"
      },
      "source": [
        "<a href=\"https://colab.research.google.com/github/nishultomar/Python-use-case/blob/data-science/Linear%20Regression/Advertisement%20vs%20sales/Linear_Regression.ipynb\" target=\"_parent\"><img src=\"https://colab.research.google.com/assets/colab-badge.svg\" alt=\"Open In Colab\"/></a>"
      ]
    },
    {
      "metadata": {
        "id": "O9UU6Rn29VAV",
        "colab_type": "code",
        "outputId": "fb4ba6a2-e35a-4e03-a36a-0275f07d3afd",
        "colab": {
          "base_uri": "https://localhost:8080/",
          "height": 204
        }
      },
      "cell_type": "code",
      "source": [
        "# conventional way to import pandas\n",
        "import pandas as pd\n",
        "\n",
        "# read CSV file directly from a URL and save the results\n",
        "data = pd.read_csv('https://raw.githubusercontent.com/nishultomar/Python-use-case/data-science/Linear%20Regression/Advertisement%20vs%20sales/advertising.csv', index_col=0)\n",
        "\n",
        "\n",
        "# display the first 5 rows\n",
        "data.head()\n",
        "\n",
        "\n"
      ],
      "execution_count": 12,
      "outputs": [
        {
          "output_type": "execute_result",
          "data": {
            "text/html": [
              "<div>\n",
              "<style scoped>\n",
              "    .dataframe tbody tr th:only-of-type {\n",
              "        vertical-align: middle;\n",
              "    }\n",
              "\n",
              "    .dataframe tbody tr th {\n",
              "        vertical-align: top;\n",
              "    }\n",
              "\n",
              "    .dataframe thead th {\n",
              "        text-align: right;\n",
              "    }\n",
              "</style>\n",
              "<table border=\"1\" class=\"dataframe\">\n",
              "  <thead>\n",
              "    <tr style=\"text-align: right;\">\n",
              "      <th></th>\n",
              "      <th>TV</th>\n",
              "      <th>radio</th>\n",
              "      <th>newspaper</th>\n",
              "      <th>sales</th>\n",
              "    </tr>\n",
              "  </thead>\n",
              "  <tbody>\n",
              "    <tr>\n",
              "      <th>1</th>\n",
              "      <td>230.1</td>\n",
              "      <td>37.8</td>\n",
              "      <td>69.2</td>\n",
              "      <td>22.1</td>\n",
              "    </tr>\n",
              "    <tr>\n",
              "      <th>2</th>\n",
              "      <td>44.5</td>\n",
              "      <td>39.3</td>\n",
              "      <td>45.1</td>\n",
              "      <td>10.4</td>\n",
              "    </tr>\n",
              "    <tr>\n",
              "      <th>3</th>\n",
              "      <td>17.2</td>\n",
              "      <td>45.9</td>\n",
              "      <td>69.3</td>\n",
              "      <td>9.3</td>\n",
              "    </tr>\n",
              "    <tr>\n",
              "      <th>4</th>\n",
              "      <td>151.5</td>\n",
              "      <td>41.3</td>\n",
              "      <td>58.5</td>\n",
              "      <td>18.5</td>\n",
              "    </tr>\n",
              "    <tr>\n",
              "      <th>5</th>\n",
              "      <td>180.8</td>\n",
              "      <td>10.8</td>\n",
              "      <td>58.4</td>\n",
              "      <td>12.9</td>\n",
              "    </tr>\n",
              "  </tbody>\n",
              "</table>\n",
              "</div>"
            ],
            "text/plain": [
              "      TV  radio  newspaper  sales\n",
              "1  230.1   37.8       69.2   22.1\n",
              "2   44.5   39.3       45.1   10.4\n",
              "3   17.2   45.9       69.3    9.3\n",
              "4  151.5   41.3       58.5   18.5\n",
              "5  180.8   10.8       58.4   12.9"
            ]
          },
          "metadata": {
            "tags": []
          },
          "execution_count": 12
        }
      ]
    },
    {
      "metadata": {
        "id": "fdItebCZ_mZs",
        "colab_type": "code",
        "outputId": "db64d9b4-a86a-4546-db2c-43f29fe09468",
        "colab": {
          "base_uri": "https://localhost:8080/",
          "height": 221
        }
      },
      "cell_type": "code",
      "source": [
        "# create a Python list of feature names\n",
        "feature_cols = ['TV', 'radio', 'newspaper']\n",
        "\n",
        "# use the list to select a subset of the original DataFrame\n",
        "X = data[feature_cols]\n",
        "\n",
        "# print the first 5 rows\n",
        "print(X.head())\n",
        "\n",
        "# select a Series from the DataFrame\n",
        "y = data['sales']\n",
        "\n",
        "\n",
        "# print the first 5 values\n",
        "print(y.head())"
      ],
      "execution_count": 13,
      "outputs": [
        {
          "output_type": "stream",
          "text": [
            "      TV  radio  newspaper\n",
            "1  230.1   37.8       69.2\n",
            "2   44.5   39.3       45.1\n",
            "3   17.2   45.9       69.3\n",
            "4  151.5   41.3       58.5\n",
            "5  180.8   10.8       58.4\n",
            "1    22.1\n",
            "2    10.4\n",
            "3     9.3\n",
            "4    18.5\n",
            "5    12.9\n",
            "Name: sales, dtype: float64\n"
          ],
          "name": "stdout"
        }
      ]
    },
    {
      "metadata": {
        "id": "ae-UzxHB-BAu",
        "colab_type": "code",
        "outputId": "f6890a5b-90b7-421f-c5b2-a72fb09c153c",
        "colab": {
          "base_uri": "https://localhost:8080/",
          "height": 51
        }
      },
      "cell_type": "code",
      "source": [
        "# import model\n",
        "from sklearn.linear_model import LinearRegression\n",
        "from sklearn.model_selection import train_test_split\n",
        "from sklearn import datasets, linear_model\n",
        "\n",
        "X_train, X_test, y_train, y_test = train_test_split(X, y, test_size=0.10,  random_state=1)\n",
        "\n",
        "# instantiate\n",
        "linreg = LinearRegression()\n",
        "# fit the model to the training data (learn the coefficients)\n",
        "linreg.fit(X_train, y_train)\n",
        "\n",
        "\n"
      ],
      "execution_count": 14,
      "outputs": [
        {
          "output_type": "execute_result",
          "data": {
            "text/plain": [
              "LinearRegression(copy_X=True, fit_intercept=True, n_jobs=None,\n",
              "         normalize=False)"
            ]
          },
          "metadata": {
            "tags": []
          },
          "execution_count": 14
        }
      ]
    },
    {
      "metadata": {
        "id": "SmnozkUI_D3B",
        "colab_type": "code",
        "outputId": "b88ca999-aadb-41d3-ebd7-a2c4616e1cb3",
        "colab": {
          "base_uri": "https://localhost:8080/",
          "height": 357
        }
      },
      "cell_type": "code",
      "source": [
        "from sklearn import metrics\n",
        "import numpy as np\n",
        "\n",
        "# make predictions on the testing set\n",
        "y_pred = linreg.predict(X_test)\n",
        "\n",
        "\n",
        "for mp, av in zip(y_pred, y_test):\n",
        "  print ('Model Predicted Value ={}, Known Value = {}, difference = {}'.format(round(mp,2),round(av,2),round(abs(mp-av),2)))\n",
        "  \n",
        "\n",
        "\n"
      ],
      "execution_count": 15,
      "outputs": [
        {
          "output_type": "stream",
          "text": [
            "Model Predicted Value =8.72, Known Value = 8.5, difference = 0.22\n",
            "Model Predicted Value =21.07, Known Value = 22.3, difference = 1.23\n",
            "Model Predicted Value =14.98, Known Value = 14.9, difference = 0.08\n",
            "Model Predicted Value =17.2, Known Value = 12.8, difference = 4.4\n",
            "Model Predicted Value =24.21, Known Value = 26.2, difference = 1.99\n",
            "Model Predicted Value =17.31, Known Value = 17.4, difference = 0.09\n",
            "Model Predicted Value =13.76, Known Value = 11.6, difference = 2.16\n",
            "Model Predicted Value =14.8, Known Value = 12.3, difference = 2.5\n",
            "Model Predicted Value =14.89, Known Value = 13.4, difference = 1.49\n",
            "Model Predicted Value =12.42, Known Value = 12.6, difference = 0.18\n",
            "Model Predicted Value =12.02, Known Value = 11.7, difference = 0.32\n",
            "Model Predicted Value =6.57, Known Value = 8.8, difference = 2.23\n",
            "Model Predicted Value =9.06, Known Value = 10.5, difference = 1.44\n",
            "Model Predicted Value =12.7, Known Value = 12.5, difference = 0.2\n",
            "Model Predicted Value =3.49, Known Value = 5.3, difference = 1.81\n",
            "Model Predicted Value =12.02, Known Value = 13.4, difference = 1.38\n",
            "Model Predicted Value =19.47, Known Value = 18.9, difference = 0.57\n",
            "Model Predicted Value =9.29, Known Value = 10.7, difference = 1.41\n",
            "Model Predicted Value =11.3, Known Value = 11.9, difference = 0.6\n",
            "Model Predicted Value =20.03, Known Value = 20.2, difference = 0.17\n"
          ],
          "name": "stdout"
        }
      ]
    },
    {
      "metadata": {
        "id": "Tclf-eGrWD9I",
        "colab_type": "code",
        "outputId": "887374a4-be1e-4a45-b8f0-31c7783f618e",
        "colab": {
          "base_uri": "https://localhost:8080/",
          "height": 85
        }
      },
      "cell_type": "code",
      "source": [
        "from sklearn import metrics\n",
        "\n",
        "\n",
        "print ('Mean Absolute Error = ', metrics.mean_absolute_error(y_test, y_pred))\n",
        "print ('Mean Squared Error = ',metrics.mean_squared_error(y_test, y_pred))\n",
        "print ('Root Mean Squared Error = ', np.sqrt(metrics.mean_squared_error(y_test, y_pred)))\n",
        "print ('R2 score = ', metrics.r2_score(y_test, y_pred))\n"
      ],
      "execution_count": 16,
      "outputs": [
        {
          "output_type": "stream",
          "text": [
            "Mean Absolute Error =  1.2231730213799095\n",
            "Mean Squared Error =  2.655908171625213\n",
            "Root Mean Squared Error =  1.6296957297683554\n",
            "R2 score =  0.8875923825281706\n"
          ],
          "name": "stdout"
        }
      ]
    },
    {
      "metadata": {
        "id": "Rz7r-xqb9ofP",
        "colab_type": "code",
        "outputId": "d26a9069-81f1-46cf-a323-d1fef63fbdd3",
        "colab": {
          "base_uri": "https://localhost:8080/",
          "height": 153
        }
      },
      "cell_type": "code",
      "source": [
        "from sklearn.model_selection import train_test_split\n",
        "from sklearn import datasets, linear_model\n",
        "from sklearn.model_selection import cross_val_score\n",
        "\n",
        "\n",
        "\n",
        "lm = linear_model.LinearRegression()\n",
        "scores = cross_val_score(lm, X, y, cv=10, scoring='r2')\n",
        "\n",
        "print(\"\\n\",scores)\n",
        "print (\"The mean of r2 is\", scores.mean())\n",
        "\n",
        "\n",
        "scores = cross_val_score(lm, X, y, cv=10, scoring='neg_mean_absolute_error')\n",
        "\n",
        "print(\"\\n\",scores)\n",
        "print (\"The mean of absolute error is\", scores.mean())\n",
        "\n",
        "\n",
        "\n",
        "\n"
      ],
      "execution_count": 17,
      "outputs": [
        {
          "output_type": "stream",
          "text": [
            "\n",
            " [0.8739214  0.85722834 0.92845438 0.89258759 0.90039671 0.94716849\n",
            " 0.72173689 0.9217827  0.83953548 0.90505634]\n",
            "The mean of r2 is 0.8787868325207902\n",
            "\n",
            " [-1.42314384 -1.42700504 -1.19312701 -1.41092813 -0.95649802 -0.92755409\n",
            " -2.06174995 -1.11161786 -0.99274803 -1.47739665]\n",
            "The mean of absolute error is -1.2981768621036889\n"
          ],
          "name": "stdout"
        }
      ]
    },
    {
      "metadata": {
        "id": "ikHAY2nxE1mL",
        "colab_type": "code",
        "outputId": "9943b1ec-3ffd-4856-a919-633ab109a393",
        "colab": {
          "base_uri": "https://localhost:8080/",
          "height": 1683
        }
      },
      "cell_type": "code",
      "source": [
        "# Taking To Production\n",
        "\n",
        "\n",
        "# import model\n",
        "from sklearn.linear_model import LinearRegression\n",
        "from sklearn.model_selection import train_test_split\n",
        "from sklearn import datasets, linear_model\n",
        "\n",
        "\n",
        "# instantiate\n",
        "linreg = LinearRegression()\n",
        "linreg.fit(X, y)\n",
        "\n",
        "\n",
        "# read CSV file \n",
        "\n",
        "\n",
        "  \n",
        "  \n",
        "df = pd.read_csv('https://raw.githubusercontent.com/nishultomar/Python-use-case/data-science/Linear%20Regression/Advertisement%20vs%20sales/advertising.csv', index_col=0)\n",
        "print(df)\n",
        "# create a Python list of feature names\n",
        "feature_cols = ['TV', 'radio', 'newspaper']\n",
        "\n",
        "# use the list to select a subset of the original DataFrame\n",
        "input_data = df[feature_cols]\n",
        "\n",
        "# make predictions on the testing set\n",
        "y_pred = linreg.predict(input_data)\n",
        "\n",
        "\n",
        "print(\"\\n\",y_pred)\n",
        "\n"
      ],
      "execution_count": 19,
      "outputs": [
        {
          "output_type": "stream",
          "text": [
            "        TV  radio  newspaper  sales\n",
            "1    230.1   37.8       69.2   22.1\n",
            "2     44.5   39.3       45.1   10.4\n",
            "3     17.2   45.9       69.3    9.3\n",
            "4    151.5   41.3       58.5   18.5\n",
            "5    180.8   10.8       58.4   12.9\n",
            "6      8.7   48.9       75.0    7.2\n",
            "7     57.5   32.8       23.5   11.8\n",
            "8    120.2   19.6       11.6   13.2\n",
            "9      8.6    2.1        1.0    4.8\n",
            "10   199.8    2.6       21.2   10.6\n",
            "11    66.1    5.8       24.2    8.6\n",
            "12   214.7   24.0        4.0   17.4\n",
            "13    23.8   35.1       65.9    9.2\n",
            "14    97.5    7.6        7.2    9.7\n",
            "15   204.1   32.9       46.0   19.0\n",
            "16   195.4   47.7       52.9   22.4\n",
            "17    67.8   36.6      114.0   12.5\n",
            "18   281.4   39.6       55.8   24.4\n",
            "19    69.2   20.5       18.3   11.3\n",
            "20   147.3   23.9       19.1   14.6\n",
            "21   218.4   27.7       53.4   18.0\n",
            "22   237.4    5.1       23.5   12.5\n",
            "23    13.2   15.9       49.6    5.6\n",
            "24   228.3   16.9       26.2   15.5\n",
            "25    62.3   12.6       18.3    9.7\n",
            "26   262.9    3.5       19.5   12.0\n",
            "27   142.9   29.3       12.6   15.0\n",
            "28   240.1   16.7       22.9   15.9\n",
            "29   248.8   27.1       22.9   18.9\n",
            "30    70.6   16.0       40.8   10.5\n",
            "..     ...    ...        ...    ...\n",
            "164  163.5   36.8        7.4   18.0\n",
            "165  117.2   14.7        5.4   11.9\n",
            "166  234.5    3.4       84.8   11.9\n",
            "167   17.9   37.6       21.6    8.0\n",
            "168  206.8    5.2       19.4   12.2\n",
            "169  215.4   23.6       57.6   17.1\n",
            "170  284.3   10.6        6.4   15.0\n",
            "171   50.0   11.6       18.4    8.4\n",
            "172  164.5   20.9       47.4   14.5\n",
            "173   19.6   20.1       17.0    7.6\n",
            "174  168.4    7.1       12.8   11.7\n",
            "175  222.4    3.4       13.1   11.5\n",
            "176  276.9   48.9       41.8   27.0\n",
            "177  248.4   30.2       20.3   20.2\n",
            "178  170.2    7.8       35.2   11.7\n",
            "179  276.7    2.3       23.7   11.8\n",
            "180  165.6   10.0       17.6   12.6\n",
            "181  156.6    2.6        8.3   10.5\n",
            "182  218.5    5.4       27.4   12.2\n",
            "183   56.2    5.7       29.7    8.7\n",
            "184  287.6   43.0       71.8   26.2\n",
            "185  253.8   21.3       30.0   17.6\n",
            "186  205.0   45.1       19.6   22.6\n",
            "187  139.5    2.1       26.6   10.3\n",
            "188  191.1   28.7       18.2   17.3\n",
            "189  286.0   13.9        3.7   15.9\n",
            "190   18.7   12.1       23.4    6.7\n",
            "191   39.5   41.1        5.8   10.8\n",
            "192   75.5   10.8        6.0    9.9\n",
            "193   17.2    4.1       31.6    5.9\n",
            "\n",
            "[193 rows x 4 columns]\n",
            "\n",
            " [20.51289257 12.28894383 12.26013579 17.56870561 13.18325902 12.4299109\n",
            " 11.67833623 12.08444866  3.67936188 12.53870121  6.99962699 17.25471212\n",
            " 10.53609155  8.79035811 18.41337812 20.79033546 12.80722745 23.21496174\n",
            "  9.90775662 14.13179107 18.0881331  14.73324293  6.45233214 16.53084889\n",
            "  8.10661304 15.60592889 14.94856478 17.03714431 19.39066083  9.11209808\n",
            " 21.62783438 11.31862696  7.61582898 18.84242328  7.54265412 17.0020615\n",
            " 23.37094251 15.57281188  9.86362762 20.42152633 16.35748443 17.26779239\n",
            " 21.57376622 13.95112037  8.84406788 15.13714358  8.84613634 21.69051979\n",
            " 16.25847697  8.13684911 12.6240608   9.30159458 20.63564999 19.9171087\n",
            " 20.35273808 21.26589464  8.47899768 12.74067647 21.86411353 18.10107836\n",
            "  5.70894032 22.87530662 16.77212413 13.16196937 16.93291151  7.80532626\n",
            "  8.95755843 12.00400862 18.95004885 21.07532454 17.7563438  10.5982546\n",
            " 10.3091137   9.88250531 17.30193109 11.82011826  4.44052487 13.76880092\n",
            "  8.75047772  9.64832704 11.400693   14.64695185 10.14114072 14.3693655\n",
            " 20.75048288 15.17587188 11.55045301 15.56096731 11.68882731 16.8800354\n",
            "  9.97125665  4.46435673 19.14218386 21.22161116 10.44502714 16.29149446\n",
            " 12.61660291 15.31132787 24.10628763 16.90357435 13.87739863 23.25469284\n",
            " 17.63907725 14.73769841 20.26810105 17.90223729  6.08616928  7.08251495\n",
            "  3.55078374 19.66725015 14.76198683 21.11252492 13.8493     16.37743345\n",
            " 15.25215922 12.88103648 11.95197057  6.53907874 15.54418867  6.77326848\n",
            " 14.38384327  7.79870311 13.61577685 15.03547037 19.44873177  9.09463276\n",
            " 10.52529909  6.56681795 22.20964773  7.85402368 10.35769973 15.5837316\n",
            "  8.38558076 19.24750579 11.7953528  13.93363562 11.3877836  20.8484901\n",
            "  9.718078   19.62707838  9.44642217 18.38665931 19.22789002  8.74190605\n",
            " 10.06318661  9.6832417  15.28005255 23.23469113 12.19968438  9.77727472\n",
            " 18.36602881  9.99300641 16.3315592  18.19045974 15.47127139  5.25472739\n",
            " 15.34267591  9.99686398 10.33203011 12.37222478 14.19155776 13.52019448\n",
            " 14.92482355 17.30687519 11.03001211 14.24140001 10.7633311  13.34975824\n",
            " 17.17734635 17.93087401  7.35394108 14.33966142  7.55620705 11.94797029\n",
            " 13.73181264 24.76473171 19.95642948 12.14778245 16.01134923 12.36123014\n",
            " 10.56357756 13.91937848  6.52278644 24.1281972  18.52589265 20.76390653\n",
            "  9.67281268 17.0451897  18.63070007  6.0076439  12.42277511  8.38232392\n",
            "  4.43038023]\n"
          ],
          "name": "stdout"
        }
      ]
    },
    {
      "metadata": {
        "id": "FyCllmqdE7f5",
        "colab_type": "code",
        "colab": {}
      },
      "cell_type": "code",
      "source": [
        ""
      ],
      "execution_count": 0,
      "outputs": []
    }
  ]
}