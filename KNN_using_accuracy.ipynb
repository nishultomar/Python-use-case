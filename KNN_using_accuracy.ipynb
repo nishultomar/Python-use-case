{
  "nbformat": 4,
  "nbformat_minor": 0,
  "metadata": {
    "colab": {
      "name": "6.1 - KNN_using_accuracy_as_scoring_For_Online_Tutorial.ipynb",
      "version": "0.3.2",
      "provenance": [],
      "include_colab_link": true
    },
    "kernelspec": {
      "name": "python3",
      "display_name": "Python 3"
    }
  },
  "cells": [
    {
      "cell_type": "markdown",
      "metadata": {
        "id": "view-in-github",
        "colab_type": "text"
      },
      "source": [
        "<a href=\"https://colab.research.google.com/github/nishultomar/Python-use-case/blob/data-science/KNN_using_accuracy.ipynb\" target=\"_parent\"><img src=\"https://colab.research.google.com/assets/colab-badge.svg\" alt=\"Open In Colab\"/></a>"
      ]
    },
    {
      "metadata": {
        "id": "tV9-YbMQo-4J",
        "colab_type": "code",
        "outputId": "24b2f3b8-32e5-4900-f6d0-3183a1ead5ad",
        "colab": {
          "base_uri": "https://localhost:8080/",
          "height": 420
        }
      },
      "cell_type": "code",
      "source": [
        "\n",
        "# Load libraries\n",
        "import pandas\n",
        "import matplotlib.pyplot as plt\n",
        "\n",
        "\n",
        "\n",
        "# Load dataset\n",
        "url = \"http://datasciencemastery.in/wp-content/uploads/2018/07/Iris_training_dataset.csv\"\n",
        "names = ['sepal-length', 'sepal-width', 'petal-length', 'petal-width', 'class']\n",
        "dataset = pandas.read_csv(url, names=names)\n",
        "\n",
        "print (dataset.shape,'\\n')\n",
        "print (dataset.head(),'\\n')\n",
        "print(dataset.describe(),'\\n')\n",
        "print(dataset.groupby('class').size())"
      ],
      "execution_count": 0,
      "outputs": [
        {
          "output_type": "stream",
          "text": [
            "(146, 5) \n",
            "\n",
            "   sepal-length  sepal-width  petal-length  petal-width        class\n",
            "0           4.9          3.0           1.4          0.2  Iris-setosa\n",
            "1           4.7          3.2           1.3          0.2  Iris-setosa\n",
            "2           4.6          3.1           1.5          0.2  Iris-setosa\n",
            "3           5.0          3.6           1.4          0.2  Iris-setosa\n",
            "4           5.4          3.9           1.7          0.4  Iris-setosa \n",
            "\n",
            "       sepal-length  sepal-width  petal-length  petal-width\n",
            "count    146.000000   146.000000    146.000000   146.000000\n",
            "mean       5.850685     3.052740      3.780822     1.209589\n",
            "std        0.832300     0.435842      1.760812     0.762783\n",
            "min        4.300000     2.000000      1.000000     0.100000\n",
            "25%        5.100000     2.800000      1.600000     0.300000\n",
            "50%        5.800000     3.000000      4.400000     1.300000\n",
            "75%        6.400000     3.300000      5.100000     1.800000\n",
            "max        7.900000     4.400000      6.900000     2.500000 \n",
            "\n",
            "class\n",
            "Iris-setosa        48\n",
            "Iris-versicolor    49\n",
            "Iris-virginica     49\n",
            "dtype: int64\n"
          ],
          "name": "stdout"
        }
      ]
    },
    {
      "metadata": {
        "id": "TPAbquWmeHJl",
        "colab_type": "code",
        "colab": {}
      },
      "cell_type": "code",
      "source": [
        ""
      ],
      "execution_count": 0,
      "outputs": []
    },
    {
      "metadata": {
        "id": "sTIx65y_7TfX",
        "colab_type": "code",
        "outputId": "b8a88d8d-db7b-4b50-cb8e-08cbc1ac07fd",
        "colab": {
          "base_uri": "https://localhost:8080/",
          "height": 694
        }
      },
      "cell_type": "code",
      "source": [
        "# box and whisker plots\n",
        "\n",
        "# https://www.khanacademy.org/math/probability/data-distributions-a1/box--whisker-plots-a1/v/constructing-a-box-and-whisker-plot\n",
        "dataset.plot(kind='box', subplots=True, layout=(2,2), sharex=False, sharey=False)\n",
        "plt.show()\n",
        "\n",
        "dataset.hist()\n",
        "plt.show()"
      ],
      "execution_count": 0,
      "outputs": [
        {
          "output_type": "display_data",
          "data": {
            "image/png": "[encoded data removed]",
            "text/plain": [
              "<matplotlib.figure.Figure at 0x7f7e614f4c18>"
            ]
          },
          "metadata": {
            "tags": []
          }
        },
        {
          "output_type": "display_data",
          "data": {
            "image/png": "[encoded data removed]",
            "text/plain": [
              "<matplotlib.figure.Figure at 0x7f7e6125e208>"
            ]
          },
          "metadata": {
            "tags": []
          }
        }
      ]
    },
    {
      "metadata": {
        "id": "3Rv419jABH0l",
        "colab_type": "code",
        "colab": {}
      },
      "cell_type": "code",
      "source": [
        "array = dataset.values\n",
        "\n",
        "X = array[:,0:4]    #features\n",
        "Y = array[:,4]      #labels \n",
        "\n",
        "#print X\n",
        "\n"
      ],
      "execution_count": 0,
      "outputs": []
    },
    {
      "metadata": {
        "id": "s9SS3OljsIuF",
        "colab_type": "code",
        "colab": {}
      },
      "cell_type": "code",
      "source": [
        ""
      ],
      "execution_count": 0,
      "outputs": []
    },
    {
      "metadata": {
        "id": "kJUaNCbHAggd",
        "colab_type": "code",
        "outputId": "3430aa87-611e-4851-c8b6-0fff50f31a24",
        "colab": {
          "base_uri": "https://localhost:8080/",
          "height": 188
        }
      },
      "cell_type": "code",
      "source": [
        "from sklearn.model_selection import GridSearchCV\n",
        "from sklearn.model_selection import StratifiedKFold\n",
        "from sklearn.neighbors import KNeighborsClassifier\n",
        "from sklearn.metrics import make_scorer\n",
        "from sklearn.metrics import accuracy_score, recall_score, f1_score, roc_auc_score, make_scorer\n",
        "\n",
        "\n",
        "\n",
        "\n",
        "model = KNeighborsClassifier()\n",
        "\n",
        "\n",
        "# define the parameter values that should be searched\n",
        "# for python 2, k_range = range(1, 31)\n",
        "k_range = list(range(1, 31))\n",
        "#print 'range',k_range\n",
        "#print\n",
        "\n",
        "\n",
        "# create a parameter grid: map the parameter names to the values that should be searched\n",
        "# simply a python dictionary\n",
        "\n",
        "param_grid = dict(n_neighbors=k_range)\n",
        "#print 'paramgrid', param_grid\n",
        "\n",
        "\n",
        "\n",
        "\n",
        "#Stratification is the process of rearranging the data as to ensure each fold is a good representative of the whole. \n",
        "# For example in a binary classification problem where each class comprises 50% of the data, \n",
        "#it is best to arrange the data such that in every fold, each class comprises around half the instances.\n",
        "\n",
        "kfolds = StratifiedKFold(10)\n",
        "grid = GridSearchCV(model, param_grid, cv=kfolds.split(X,Y), scoring= 'accuracy')\n",
        "grid.fit(X,Y)\n",
        "\n",
        "\n"
      ],
      "execution_count": 0,
      "outputs": [
        {
          "output_type": "execute_result",
          "data": {
            "text/plain": [
              "GridSearchCV(cv=<generator object _BaseKFold.split at 0x7f7e635d48e0>,\n",
              "       error_score='raise',\n",
              "       estimator=KNeighborsClassifier(algorithm='auto', leaf_size=30, metric='minkowski',\n",
              "           metric_params=None, n_jobs=1, n_neighbors=5, p=2,\n",
              "           weights='uniform'),\n",
              "       fit_params=None, iid=True, n_jobs=1,\n",
              "       param_grid={'n_neighbors': [1, 2, 3, 4, 5, 6, 7, 8, 9, 10, 11, 12, 13, 14, 15, 16, 17, 18, 19, 20, 21, 22, 23, 24, 25, 26, 27, 28, 29, 30]},\n",
              "       pre_dispatch='2*n_jobs', refit=True, return_train_score='warn',\n",
              "       scoring='accuracy', verbose=0)"
            ]
          },
          "metadata": {
            "tags": []
          },
          "execution_count": 6
        }
      ]
    },
    {
      "metadata": {
        "id": "40tXJehzBTOw",
        "colab_type": "code",
        "outputId": "cfbf7a6b-af5d-4c08-9d7a-d50621e5b7c9",
        "colab": {
          "base_uri": "https://localhost:8080/",
          "height": 2607
        }
      },
      "cell_type": "code",
      "source": [
        "# examine the first tuple\n",
        "# we will slice the list and select its elements using dot notation and []\n",
        "\n",
        "\n",
        "#print('Parameters')\n",
        "#print(grid.grid_scores_[0].parameters)\n",
        "\n",
        "# Array of 10 accuracy scores during 10-fold cv using the parameters\n",
        "#print('')\n",
        "#print('CV Validation Score')\n",
        "#print(grid.grid_scores_[0].cv_validation_scores)\n",
        "\n",
        "# Mean of the 10 scores\n",
        "#print('')\n",
        "#print('Mean Validation Score')\n",
        "#print(grid.grid_scores_[0].mean_validation_score)\n",
        "\n",
        "print ('----------')\n",
        "for val in grid.grid_scores_:\n",
        "  print ('parameter {}  mean score {}'.format(val.parameters,val.mean_validation_score))\n",
        "  print ('cv_validation_scores {} \\n'.format(val.cv_validation_scores))\n",
        "  print ('-------------')"
      ],
      "execution_count": 0,
      "outputs": [
        {
          "output_type": "stream",
          "text": [
            "----------\n",
            "parameter {'n_neighbors': 1}  mean score 0.958904109589041\n",
            "cv_validation_scores [1.         0.93333333 1.         0.93333333 0.86666667 1.\n",
            " 0.86666667 1.         1.         1.        ] \n",
            "\n",
            "-------------\n",
            "parameter {'n_neighbors': 2}  mean score 0.952054794520548\n",
            "cv_validation_scores [1.         0.93333333 1.         0.93333333 0.86666667 1.\n",
            " 0.86666667 0.93333333 1.         1.        ] \n",
            "\n",
            "-------------\n",
            "parameter {'n_neighbors': 3}  mean score 0.9657534246575342\n",
            "cv_validation_scores [1.         0.93333333 1.         0.93333333 0.86666667 1.\n",
            " 0.93333333 1.         1.         1.        ] \n",
            "\n",
            "-------------\n",
            "parameter {'n_neighbors': 4}  mean score 0.9657534246575342\n",
            "cv_validation_scores [1.         0.93333333 1.         0.93333333 0.86666667 1.\n",
            " 0.93333333 1.         1.         1.        ] \n",
            "\n",
            "-------------\n",
            "parameter {'n_neighbors': 5}  mean score 0.9657534246575342\n",
            "cv_validation_scores [1.         0.93333333 1.         1.         0.86666667 0.93333333\n",
            " 0.93333333 1.         1.         1.        ] \n",
            "\n",
            "-------------\n",
            "parameter {'n_neighbors': 6}  mean score 0.9657534246575342\n",
            "cv_validation_scores [1.         0.93333333 1.         1.         0.86666667 0.93333333\n",
            " 0.93333333 1.         1.         1.        ] \n",
            "\n",
            "-------------\n",
            "parameter {'n_neighbors': 7}  mean score 0.9657534246575342\n",
            "cv_validation_scores [1.         0.93333333 1.         1.         0.86666667 0.93333333\n",
            " 0.93333333 1.         1.         1.        ] \n",
            "\n",
            "-------------\n",
            "parameter {'n_neighbors': 8}  mean score 0.9657534246575342\n",
            "cv_validation_scores [1.         0.93333333 1.         1.         1.         0.86666667\n",
            " 0.93333333 0.93333333 1.         1.        ] \n",
            "\n",
            "-------------\n",
            "parameter {'n_neighbors': 9}  mean score 0.9726027397260274\n",
            "cv_validation_scores [1.         0.93333333 1.         1.         1.         0.93333333\n",
            " 0.93333333 0.93333333 1.         1.        ] \n",
            "\n",
            "-------------\n",
            "parameter {'n_neighbors': 10}  mean score 0.9726027397260274\n",
            "cv_validation_scores [1.         0.93333333 1.         1.         1.         0.93333333\n",
            " 0.93333333 0.93333333 1.         1.        ] \n",
            "\n",
            "-------------\n",
            "parameter {'n_neighbors': 11}  mean score 0.9726027397260274\n",
            "cv_validation_scores [1.         0.93333333 1.         1.         1.         0.93333333\n",
            " 0.93333333 0.93333333 1.         1.        ] \n",
            "\n",
            "-------------\n",
            "parameter {'n_neighbors': 12}  mean score 0.9726027397260274\n",
            "cv_validation_scores [1.         0.93333333 1.         1.         1.         0.93333333\n",
            " 0.93333333 0.93333333 1.         1.        ] \n",
            "\n",
            "-------------\n",
            "parameter {'n_neighbors': 13}  mean score 0.9794520547945206\n",
            "cv_validation_scores [1.         0.93333333 1.         1.         1.         0.93333333\n",
            " 0.93333333 1.         1.         1.        ] \n",
            "\n",
            "-------------\n",
            "parameter {'n_neighbors': 14}  mean score 0.9657534246575342\n",
            "cv_validation_scores [1.         0.93333333 1.         1.         1.         0.86666667\n",
            " 0.93333333 0.93333333 1.         1.        ] \n",
            "\n",
            "-------------\n",
            "parameter {'n_neighbors': 15}  mean score 0.9794520547945206\n",
            "cv_validation_scores [1.         0.93333333 1.         1.         1.         0.93333333\n",
            " 0.93333333 1.         1.         1.        ] \n",
            "\n",
            "-------------\n",
            "parameter {'n_neighbors': 16}  mean score 0.9726027397260274\n",
            "cv_validation_scores [1.         0.93333333 1.         1.         1.         0.93333333\n",
            " 0.93333333 0.93333333 1.         1.        ] \n",
            "\n",
            "-------------\n",
            "parameter {'n_neighbors': 17}  mean score 0.9726027397260274\n",
            "cv_validation_scores [1.         0.93333333 1.         1.         1.         0.93333333\n",
            " 0.93333333 0.93333333 1.         1.        ] \n",
            "\n",
            "-------------\n",
            "parameter {'n_neighbors': 18}  mean score 0.9726027397260274\n",
            "cv_validation_scores [1.         0.93333333 1.         1.         1.         0.93333333\n",
            " 0.93333333 0.93333333 1.         1.        ] \n",
            "\n",
            "-------------\n",
            "parameter {'n_neighbors': 19}  mean score 0.9794520547945206\n",
            "cv_validation_scores [1.         0.93333333 1.         1.         1.         0.93333333\n",
            " 0.93333333 1.         1.         1.        ] \n",
            "\n",
            "-------------\n",
            "parameter {'n_neighbors': 20}  mean score 0.9726027397260274\n",
            "cv_validation_scores [1.         0.93333333 1.         1.         1.         0.93333333\n",
            " 0.86666667 1.         1.         1.        ] \n",
            "\n",
            "-------------\n",
            "parameter {'n_neighbors': 21}  mean score 0.9657534246575342\n",
            "cv_validation_scores [0.93333333 0.93333333 1.         1.         0.93333333 0.93333333\n",
            " 0.93333333 1.         1.         1.        ] \n",
            "\n",
            "-------------\n",
            "parameter {'n_neighbors': 22}  mean score 0.9726027397260274\n",
            "cv_validation_scores [1.         0.93333333 1.         1.         1.         0.93333333\n",
            " 0.93333333 0.93333333 1.         1.        ] \n",
            "\n",
            "-------------\n",
            "parameter {'n_neighbors': 23}  mean score 0.9657534246575342\n",
            "cv_validation_scores [0.93333333 0.93333333 1.         1.         1.         0.93333333\n",
            " 0.93333333 0.93333333 1.         1.        ] \n",
            "\n",
            "-------------\n",
            "parameter {'n_neighbors': 24}  mean score 0.9657534246575342\n",
            "cv_validation_scores [1.         0.93333333 1.         1.         1.         0.86666667\n",
            " 0.93333333 0.93333333 1.         1.        ] \n",
            "\n",
            "-------------\n",
            "parameter {'n_neighbors': 25}  mean score 0.9657534246575342\n",
            "cv_validation_scores [0.93333333 0.93333333 1.         1.         1.         0.93333333\n",
            " 0.93333333 0.93333333 1.         1.        ] \n",
            "\n",
            "-------------\n",
            "parameter {'n_neighbors': 26}  mean score 0.958904109589041\n",
            "cv_validation_scores [0.93333333 0.93333333 1.         1.         1.         0.86666667\n",
            " 0.93333333 0.93333333 1.         1.        ] \n",
            "\n",
            "-------------\n",
            "parameter {'n_neighbors': 27}  mean score 0.958904109589041\n",
            "cv_validation_scores [0.93333333 0.93333333 1.         1.         1.         0.86666667\n",
            " 0.93333333 0.93333333 1.         1.        ] \n",
            "\n",
            "-------------\n",
            "parameter {'n_neighbors': 28}  mean score 0.9452054794520548\n",
            "cv_validation_scores [0.93333333 0.93333333 1.         0.93333333 1.         0.86666667\n",
            " 0.86666667 0.93333333 1.         1.        ] \n",
            "\n",
            "-------------\n",
            "parameter {'n_neighbors': 29}  mean score 0.952054794520548\n",
            "cv_validation_scores [0.93333333 0.93333333 1.         0.93333333 1.         0.86666667\n",
            " 0.93333333 0.93333333 1.         1.        ] \n",
            "\n",
            "-------------\n",
            "parameter {'n_neighbors': 30}  mean score 0.952054794520548\n",
            "cv_validation_scores [1.         0.93333333 1.         0.93333333 1.         0.86666667\n",
            " 0.86666667 0.93333333 1.         1.        ] \n",
            "\n",
            "-------------\n"
          ],
          "name": "stdout"
        },
        {
          "output_type": "stream",
          "text": [
            "/usr/local/lib/python3.6/dist-packages/sklearn/model_selection/_search.py:762: DeprecationWarning: The grid_scores_ attribute was deprecated in version 0.18 in favor of the more elaborate cv_results_ attribute. The grid_scores_ attribute will not be available from 0.20\n",
            "  DeprecationWarning)\n"
          ],
          "name": "stderr"
        }
      ]
    },
    {
      "metadata": {
        "id": "63aGQCCZtBEl",
        "colab_type": "code",
        "outputId": "e51d6445-c5ea-4cbc-db90-2be245336161",
        "colab": {
          "base_uri": "https://localhost:8080/",
          "height": 431
        }
      },
      "cell_type": "code",
      "source": [
        "grid_mean_scores = [result.mean_validation_score for result in grid.grid_scores_]\n",
        "\n",
        "plt.plot(k_range, grid_mean_scores)\n",
        "plt.xlabel('Value of K for KNN')\n",
        "plt.ylabel('Cross-Validated Accuracy')"
      ],
      "execution_count": 0,
      "outputs": [
        {
          "output_type": "stream",
          "text": [
            "/usr/local/lib/python3.6/dist-packages/sklearn/model_selection/_search.py:762: DeprecationWarning: The grid_scores_ attribute was deprecated in version 0.18 in favor of the more elaborate cv_results_ attribute. The grid_scores_ attribute will not be available from 0.20\n",
            "  DeprecationWarning)\n"
          ],
          "name": "stderr"
        },
        {
          "output_type": "execute_result",
          "data": {
            "text/plain": [
              "Text(0,0.5,'Cross-Validated Accuracy')"
            ]
          },
          "metadata": {
            "tags": []
          },
          "execution_count": 8
        },
        {
          "output_type": "display_data",
          "data": {
            "image/png": "[encoded data removed]",
            "text/plain": [
              "<matplotlib.figure.Figure at 0x7f7e651f33c8>"
            ]
          },
          "metadata": {
            "tags": []
          }
        }
      ]
    },
    {
      "metadata": {
        "id": "XQn2rNHuq-PE",
        "colab_type": "code",
        "outputId": "6f11c6b2-7d78-4686-b822-717e7a926384",
        "colab": {
          "base_uri": "https://localhost:8080/",
          "height": 34
        }
      },
      "cell_type": "code",
      "source": [
        "#Train the model on all the training points.\n",
        "# Make predictions\n",
        "from sklearn.metrics import accuracy_score\n",
        "\n",
        "url = \"http://datasciencemastery.in/wp-content/uploads/2018/07/iris_prediction_dataset.csv\"\n",
        "names = ['sepal-length', 'sepal-width', 'petal-length', 'petal-width', 'class']\n",
        "\n",
        "prediction_dataset = pandas.read_csv(url, names=names)\n",
        "X_prediction = prediction_dataset.values[:,0:4]    #features\n",
        "\n",
        "\n",
        "\n",
        "knn = KNeighborsClassifier(n_neighbors=15)\n",
        "knn.fit(X, Y)\n",
        "predictions = knn.predict(X_prediction)\n",
        "\n",
        "\n",
        "print ('Predictions',predictions)\n",
        "\n"
      ],
      "execution_count": 0,
      "outputs": [
        {
          "output_type": "stream",
          "text": [
            "Predictions ['Iris-setosa' 'Iris-setosa' 'Iris-versicolor' 'Iris-virginica']\n"
          ],
          "name": "stdout"
        }
      ]
    },
    {
      "metadata": {
        "id": "AfVan5S6noDd",
        "colab_type": "code",
        "colab": {}
      },
      "cell_type": "code",
      "source": [
        "import pandas as pd\n",
        "import matplotlib.pyplot as plt\n",
        "import seaborn as sns\n",
        "\n",
        "def print_confusion_matrix(confusion_matrix, class_names, figsize = (4,4), fontsize=8):\n",
        "    \"\"\"Prints a confusion matrix, as returned by sklearn.metrics.confusion_matrix, as a heatmap.\n",
        "    \n",
        "    Arguments\n",
        "    ---------\n",
        "    confusion_matrix: numpy.ndarray\n",
        "        The numpy.ndarray object returned from a call to sklearn.metrics.confusion_matrix. \n",
        "        Similarly constructed ndarrays can also be used.\n",
        "    class_names: list\n",
        "        An ordered list of class names, in the order they index the given confusion matrix.\n",
        "    figsize: tuple\n",
        "        A 2-long tuple, the first value determining the horizontal size of the ouputted figure,\n",
        "        the second determining the vertical size. Defaults to (10,7).\n",
        "    fontsize: int\n",
        "        Font size for axes labels. Defaults to 14.\n",
        "        \n",
        "    Returns\n",
        "    -------\n",
        "    matplotlib.figure.Figure\n",
        "        The resulting confusion matrix figure\n",
        "    \"\"\"\n",
        "    df_cm = pd.DataFrame(\n",
        "        confusion_matrix, index=class_names, columns=class_names, \n",
        "    )\n",
        "    fig = plt.figure(figsize=figsize)\n",
        "    try:\n",
        "        heatmap = sns.heatmap(df_cm, annot=True, fmt=\"d\")\n",
        "    except ValueError:\n",
        "        raise ValueError(\"Confusion matrix values must be integers.\")\n",
        "    heatmap.yaxis.set_ticklabels(heatmap.yaxis.get_ticklabels(), rotation=0, ha='right', fontsize=fontsize)\n",
        "    heatmap.xaxis.set_ticklabels(heatmap.xaxis.get_ticklabels(), rotation=45, ha='right', fontsize=fontsize)\n",
        "    plt.ylabel('True label')\n",
        "    plt.xlabel('Predicted label')\n",
        "    return fig"
      ],
      "execution_count": 0,
      "outputs": []
    }
  ]
}